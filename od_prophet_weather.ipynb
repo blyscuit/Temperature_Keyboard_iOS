{
 "cells": [
  {
   "cell_type": "markdown",
   "metadata": {},
   "source": [
    "# Time-series outlier detection using Prophet on weather data\n",
    "\n",
    "## Method\n",
    "\n",
    "The Prophet outlier detector uses the [Prophet](https://facebook.github.io/prophet/) time series forecasting package explained in [this excellent paper](https://peerj.com/preprints/3190/). The underlying Prophet model is a decomposable univariate time series model combining trend, seasonality and holiday effects. The model forecast also includes an uncertainty interval around the estimated trend component using the [MAP estimate](https://en.wikipedia.org/wiki/Maximum_a_posteriori_estimation) of the extrapolated model. Alternatively, full Bayesian inference can be done at the expense of increased compute. The upper and lower values of the uncertainty interval can then be used as outlier thresholds for each point in time. First, the distance from the observed value to the nearest uncertainty boundary (upper or lower) is computed. If the observation is within the boundaries, the outlier score equals the negative distance. As a result, the outlier score is the lowest when the observation equals the model prediction. If the observation is outside of the boundaries, the score equals the distance measure and the observation is flagged as an outlier. One of the main drawbacks of the method however is that you need to refit the model as new data comes in. This is undesirable for applications with high throughput and real-time detection.\n",
    "\n",
    "## Dataset\n",
    "\n",
    "The example uses a weather time series dataset recorded by the [Max-Planck-Institute for Biogeochemistry](https://www.bgc-jena.mpg.de/wetter/). The dataset contains 14 different features such as air temperature, atmospheric pressure, and humidity. These were collected every 10 minutes, beginning in 2003. Like the [TensorFlow time-series tutorial](https://www.tensorflow.org/tutorials/structured_data/time_series), we only use data collected between 2009 and 2016."
   ]
  },
  {
   "cell_type": "code",
   "execution_count": 36,
   "metadata": {},
   "outputs": [],
   "source": [
    "import matplotlib.pyplot as plt\n",
    "import numpy as np\n",
    "import os\n",
    "import pandas as pd\n",
    "import tensorflow as tf\n",
    "\n",
    "from matplotlib import pyplot as plt\n",
    "from matplotlib.dates import MonthLocator, num2date\n",
    "from matplotlib.ticker import FuncFormatter\n",
    "from alibi_detect.od import OutlierProphet\n",
    "from alibi_detect.utils.saving import save_detector, load_detector"
   ]
  },
  {
   "cell_type": "markdown",
   "metadata": {},
   "source": [
    "## Load dataset"
   ]
  },
  {
   "cell_type": "code",
   "execution_count": 37,
   "metadata": {},
   "outputs": [
    {
     "name": "stdout",
     "output_type": "stream",
     "text": [
      "(420551, 15)\n"
     ]
    },
    {
     "data": {
      "text/html": [
       "<div>\n",
       "<style scoped>\n",
       "    .dataframe tbody tr th:only-of-type {\n",
       "        vertical-align: middle;\n",
       "    }\n",
       "\n",
       "    .dataframe tbody tr th {\n",
       "        vertical-align: top;\n",
       "    }\n",
       "\n",
       "    .dataframe thead th {\n",
       "        text-align: right;\n",
       "    }\n",
       "</style>\n",
       "<table border=\"1\" class=\"dataframe\">\n",
       "  <thead>\n",
       "    <tr style=\"text-align: right;\">\n",
       "      <th></th>\n",
       "      <th>Date Time</th>\n",
       "      <th>p (mbar)</th>\n",
       "      <th>T (degC)</th>\n",
       "      <th>Tpot (K)</th>\n",
       "      <th>Tdew (degC)</th>\n",
       "      <th>rh (%)</th>\n",
       "      <th>VPmax (mbar)</th>\n",
       "      <th>VPact (mbar)</th>\n",
       "      <th>VPdef (mbar)</th>\n",
       "      <th>sh (g/kg)</th>\n",
       "      <th>H2OC (mmol/mol)</th>\n",
       "      <th>rho (g/m**3)</th>\n",
       "      <th>wv (m/s)</th>\n",
       "      <th>max. wv (m/s)</th>\n",
       "      <th>wd (deg)</th>\n",
       "    </tr>\n",
       "  </thead>\n",
       "  <tbody>\n",
       "    <tr>\n",
       "      <th>0</th>\n",
       "      <td>2009-01-01 00:10:00</td>\n",
       "      <td>996.52</td>\n",
       "      <td>-8.02</td>\n",
       "      <td>265.40</td>\n",
       "      <td>-8.90</td>\n",
       "      <td>93.3</td>\n",
       "      <td>3.33</td>\n",
       "      <td>3.11</td>\n",
       "      <td>0.22</td>\n",
       "      <td>1.94</td>\n",
       "      <td>3.12</td>\n",
       "      <td>1307.75</td>\n",
       "      <td>1.03</td>\n",
       "      <td>1.75</td>\n",
       "      <td>152.3</td>\n",
       "    </tr>\n",
       "    <tr>\n",
       "      <th>1</th>\n",
       "      <td>2009-01-01 00:20:00</td>\n",
       "      <td>996.57</td>\n",
       "      <td>-8.41</td>\n",
       "      <td>265.01</td>\n",
       "      <td>-9.28</td>\n",
       "      <td>93.4</td>\n",
       "      <td>3.23</td>\n",
       "      <td>3.02</td>\n",
       "      <td>0.21</td>\n",
       "      <td>1.89</td>\n",
       "      <td>3.03</td>\n",
       "      <td>1309.80</td>\n",
       "      <td>0.72</td>\n",
       "      <td>1.50</td>\n",
       "      <td>136.1</td>\n",
       "    </tr>\n",
       "    <tr>\n",
       "      <th>2</th>\n",
       "      <td>2009-01-01 00:30:00</td>\n",
       "      <td>996.53</td>\n",
       "      <td>-8.51</td>\n",
       "      <td>264.91</td>\n",
       "      <td>-9.31</td>\n",
       "      <td>93.9</td>\n",
       "      <td>3.21</td>\n",
       "      <td>3.01</td>\n",
       "      <td>0.20</td>\n",
       "      <td>1.88</td>\n",
       "      <td>3.02</td>\n",
       "      <td>1310.24</td>\n",
       "      <td>0.19</td>\n",
       "      <td>0.63</td>\n",
       "      <td>171.6</td>\n",
       "    </tr>\n",
       "    <tr>\n",
       "      <th>3</th>\n",
       "      <td>2009-01-01 00:40:00</td>\n",
       "      <td>996.51</td>\n",
       "      <td>-8.31</td>\n",
       "      <td>265.12</td>\n",
       "      <td>-9.07</td>\n",
       "      <td>94.2</td>\n",
       "      <td>3.26</td>\n",
       "      <td>3.07</td>\n",
       "      <td>0.19</td>\n",
       "      <td>1.92</td>\n",
       "      <td>3.08</td>\n",
       "      <td>1309.19</td>\n",
       "      <td>0.34</td>\n",
       "      <td>0.50</td>\n",
       "      <td>198.0</td>\n",
       "    </tr>\n",
       "    <tr>\n",
       "      <th>4</th>\n",
       "      <td>2009-01-01 00:50:00</td>\n",
       "      <td>996.51</td>\n",
       "      <td>-8.27</td>\n",
       "      <td>265.15</td>\n",
       "      <td>-9.04</td>\n",
       "      <td>94.1</td>\n",
       "      <td>3.27</td>\n",
       "      <td>3.08</td>\n",
       "      <td>0.19</td>\n",
       "      <td>1.92</td>\n",
       "      <td>3.09</td>\n",
       "      <td>1309.00</td>\n",
       "      <td>0.32</td>\n",
       "      <td>0.63</td>\n",
       "      <td>214.3</td>\n",
       "    </tr>\n",
       "  </tbody>\n",
       "</table>\n",
       "</div>"
      ],
      "text/plain": [
       "            Date Time  p (mbar)  T (degC)  Tpot (K)  Tdew (degC)  rh (%)  \\\n",
       "0 2009-01-01 00:10:00    996.52     -8.02    265.40        -8.90    93.3   \n",
       "1 2009-01-01 00:20:00    996.57     -8.41    265.01        -9.28    93.4   \n",
       "2 2009-01-01 00:30:00    996.53     -8.51    264.91        -9.31    93.9   \n",
       "3 2009-01-01 00:40:00    996.51     -8.31    265.12        -9.07    94.2   \n",
       "4 2009-01-01 00:50:00    996.51     -8.27    265.15        -9.04    94.1   \n",
       "\n",
       "   VPmax (mbar)  VPact (mbar)  VPdef (mbar)  sh (g/kg)  H2OC (mmol/mol)  \\\n",
       "0          3.33          3.11          0.22       1.94             3.12   \n",
       "1          3.23          3.02          0.21       1.89             3.03   \n",
       "2          3.21          3.01          0.20       1.88             3.02   \n",
       "3          3.26          3.07          0.19       1.92             3.08   \n",
       "4          3.27          3.08          0.19       1.92             3.09   \n",
       "\n",
       "   rho (g/m**3)  wv (m/s)  max. wv (m/s)  wd (deg)  \n",
       "0       1307.75      1.03           1.75     152.3  \n",
       "1       1309.80      0.72           1.50     136.1  \n",
       "2       1310.24      0.19           0.63     171.6  \n",
       "3       1309.19      0.34           0.50     198.0  \n",
       "4       1309.00      0.32           0.63     214.3  "
      ]
     },
     "execution_count": 37,
     "metadata": {},
     "output_type": "execute_result"
    }
   ],
   "source": [
    "zip_path = tf.keras.utils.get_file(\n",
    "    origin='https://storage.googleapis.com/tensorflow/tf-keras-datasets/jena_climate_2009_2016.csv.zip',\n",
    "    fname='jena_climate_2009_2016.csv.zip',\n",
    "    extract=True\n",
    ")\n",
    "csv_path, _ = os.path.splitext(zip_path)\n",
    "df = pd.read_csv(csv_path)\n",
    "df['Date Time'] = pd.to_datetime(df['Date Time'], format='%d.%m.%Y %H:%M:%S')\n",
    "print(df.shape)\n",
    "df.head()"
   ]
  },
  {
   "cell_type": "markdown",
   "metadata": {},
   "source": [
    "Select subset to test Prophet model on:"
   ]
  },
  {
   "cell_type": "code",
   "execution_count": 38,
   "metadata": {},
   "outputs": [],
   "source": [
    "n_prophet = 420551"
   ]
  },
  {
   "cell_type": "markdown",
   "metadata": {},
   "source": [
    "Prophet model expects a DataFrame with 2 columns: one named ```ds``` with the timestamps and one named ```y``` with the time series to be evaluated. We will just look at the temperature data:"
   ]
  },
  {
   "cell_type": "code",
   "execution_count": 39,
   "metadata": {},
   "outputs": [
    {
     "name": "stdout",
     "output_type": "stream",
     "text": [
      "(420551, 2)\n"
     ]
    },
    {
     "data": {
      "text/html": [
       "<div>\n",
       "<style scoped>\n",
       "    .dataframe tbody tr th:only-of-type {\n",
       "        vertical-align: middle;\n",
       "    }\n",
       "\n",
       "    .dataframe tbody tr th {\n",
       "        vertical-align: top;\n",
       "    }\n",
       "\n",
       "    .dataframe thead th {\n",
       "        text-align: right;\n",
       "    }\n",
       "</style>\n",
       "<table border=\"1\" class=\"dataframe\">\n",
       "  <thead>\n",
       "    <tr style=\"text-align: right;\">\n",
       "      <th></th>\n",
       "      <th>ds</th>\n",
       "      <th>y</th>\n",
       "    </tr>\n",
       "  </thead>\n",
       "  <tbody>\n",
       "    <tr>\n",
       "      <th>0</th>\n",
       "      <td>2009-01-01 00:10:00</td>\n",
       "      <td>-8.02</td>\n",
       "    </tr>\n",
       "    <tr>\n",
       "      <th>1</th>\n",
       "      <td>2009-01-01 00:20:00</td>\n",
       "      <td>-8.41</td>\n",
       "    </tr>\n",
       "    <tr>\n",
       "      <th>2</th>\n",
       "      <td>2009-01-01 00:30:00</td>\n",
       "      <td>-8.51</td>\n",
       "    </tr>\n",
       "    <tr>\n",
       "      <th>3</th>\n",
       "      <td>2009-01-01 00:40:00</td>\n",
       "      <td>-8.31</td>\n",
       "    </tr>\n",
       "    <tr>\n",
       "      <th>4</th>\n",
       "      <td>2009-01-01 00:50:00</td>\n",
       "      <td>-8.27</td>\n",
       "    </tr>\n",
       "  </tbody>\n",
       "</table>\n",
       "</div>"
      ],
      "text/plain": [
       "                   ds     y\n",
       "0 2009-01-01 00:10:00 -8.02\n",
       "1 2009-01-01 00:20:00 -8.41\n",
       "2 2009-01-01 00:30:00 -8.51\n",
       "3 2009-01-01 00:40:00 -8.31\n",
       "4 2009-01-01 00:50:00 -8.27"
      ]
     },
     "execution_count": 39,
     "metadata": {},
     "output_type": "execute_result"
    }
   ],
   "source": [
    "d = {'ds': df['Date Time'][:n_prophet], 'y': df['T (degC)'][:n_prophet]}\n",
    "df_T = pd.DataFrame(data=d)\n",
    "print(df_T.shape)\n",
    "df_T.head()"
   ]
  },
  {
   "cell_type": "code",
   "execution_count": 40,
   "metadata": {},
   "outputs": [
    {
     "data": {
      "image/png": "[encoded data removed]",
      "text/plain": [
       "<Figure size 432x288 with 1 Axes>"
      ]
     },
     "metadata": {
      "needs_background": "light"
     },
     "output_type": "display_data"
    }
   ],
   "source": [
    "plt.plot(df_T['ds'], df_T['y'])\n",
    "plt.title('T (in °C) over time')\n",
    "plt.xlabel('Time')\n",
    "plt.ylabel('T (in °C)')\n",
    "plt.show()"
   ]
  },
  {
   "cell_type": "markdown",
   "metadata": {},
   "source": [
    "## Load or define outlier detector\n",
    "\n",
    "The pretrained outlier and adversarial detectors used in the example notebooks can be found [here](https://console.cloud.google.com/storage/browser/seldon-models/alibi-detect). You can either manually download the relevant files in the [od_prophet_weather](https://console.cloud.google.com/storage/browser/seldon-models/alibi-detect/od_prophet_weather/) folder to e.g. the local directory ```my_dir```. Alternatively,  if you have [Google Cloud SDK](https://cloud.google.com/sdk/docs/) installed, you can download the whole folder as follows:\n",
    "\n",
    "```bash\n",
    "!gsutil cp -r gs://seldon-models/alibi-detect/od_prophet_weather my_dir\n",
    "```"
   ]
  },
  {
   "cell_type": "code",
   "execution_count": 41,
   "metadata": {},
   "outputs": [],
   "source": [
    "load_outlier_detector = False"
   ]
  },
  {
   "cell_type": "code",
   "execution_count": 42,
   "metadata": {},
   "outputs": [],
   "source": [
    "filepath = './od_prophet_weather/'  # change to directory where model is downloaded\n",
    "if load_outlier_detector:  # load pretrained outlier detector\n",
    "    od = load_detector(filepath)\n",
    "else:  # initialize, fit and save outlier detector\n",
    "    od = OutlierProphet(threshold=.9)\n",
    "    od.fit(df_T)\n",
    "    save_detector(od, filepath)"
   ]
  },
  {
   "cell_type": "markdown",
   "metadata": {},
   "source": [
    "Please check out the [documentation](https://docs.seldon.io/projects/alibi-detect/en/latest/methods/prophet.html) as well as the original [Prophet documentation](https://facebook.github.io/prophet/) on how to customize the Prophet-based outlier detector and add seasonalities, holidays, opt for a saturating logistic growth model or apply parameter regularization.\n",
    "\n",
    "## Predict outliers on test data\n",
    "\n",
    "Define the test data. It is important that the timestamps of the test data follow the training data. We check this below by comparing the first few rows of the test DataFrame with the last few of the training DataFrame:"
   ]
  },
  {
   "cell_type": "code",
   "execution_count": 43,
   "metadata": {},
   "outputs": [
    {
     "data": {
      "text/html": [
       "<div>\n",
       "<style scoped>\n",
       "    .dataframe tbody tr th:only-of-type {\n",
       "        vertical-align: middle;\n",
       "    }\n",
       "\n",
       "    .dataframe tbody tr th {\n",
       "        vertical-align: top;\n",
       "    }\n",
       "\n",
       "    .dataframe thead th {\n",
       "        text-align: right;\n",
       "    }\n",
       "</style>\n",
       "<table border=\"1\" class=\"dataframe\">\n",
       "  <thead>\n",
       "    <tr style=\"text-align: right;\">\n",
       "      <th></th>\n",
       "      <th>ds</th>\n",
       "      <th>y</th>\n",
       "    </tr>\n",
       "  </thead>\n",
       "  <tbody>\n",
       "  </tbody>\n",
       "</table>\n",
       "</div>"
      ],
      "text/plain": [
       "Empty DataFrame\n",
       "Columns: [ds, y]\n",
       "Index: []"
      ]
     },
     "execution_count": 43,
     "metadata": {},
     "output_type": "execute_result"
    }
   ],
   "source": [
    "n_periods = 2000\n",
    "d = {'ds': df['Date Time'][n_prophet:n_prophet+n_periods], \n",
    "     'y': df['T (degC)'][n_prophet:n_prophet+n_periods]}\n",
    "df_T_test = pd.DataFrame(data=d)\n",
    "df_T_test.head()"
   ]
  },
  {
   "cell_type": "code",
   "execution_count": 44,
   "metadata": {},
   "outputs": [
    {
     "data": {
      "text/html": [
       "<div>\n",
       "<style scoped>\n",
       "    .dataframe tbody tr th:only-of-type {\n",
       "        vertical-align: middle;\n",
       "    }\n",
       "\n",
       "    .dataframe tbody tr th {\n",
       "        vertical-align: top;\n",
       "    }\n",
       "\n",
       "    .dataframe thead th {\n",
       "        text-align: right;\n",
       "    }\n",
       "</style>\n",
       "<table border=\"1\" class=\"dataframe\">\n",
       "  <thead>\n",
       "    <tr style=\"text-align: right;\">\n",
       "      <th></th>\n",
       "      <th>ds</th>\n",
       "      <th>y</th>\n",
       "    </tr>\n",
       "  </thead>\n",
       "  <tbody>\n",
       "    <tr>\n",
       "      <th>420546</th>\n",
       "      <td>2016-12-31 23:20:00</td>\n",
       "      <td>-4.05</td>\n",
       "    </tr>\n",
       "    <tr>\n",
       "      <th>420547</th>\n",
       "      <td>2016-12-31 23:30:00</td>\n",
       "      <td>-3.35</td>\n",
       "    </tr>\n",
       "    <tr>\n",
       "      <th>420548</th>\n",
       "      <td>2016-12-31 23:40:00</td>\n",
       "      <td>-3.16</td>\n",
       "    </tr>\n",
       "    <tr>\n",
       "      <th>420549</th>\n",
       "      <td>2016-12-31 23:50:00</td>\n",
       "      <td>-4.23</td>\n",
       "    </tr>\n",
       "    <tr>\n",
       "      <th>420550</th>\n",
       "      <td>2017-01-01 00:00:00</td>\n",
       "      <td>-4.82</td>\n",
       "    </tr>\n",
       "  </tbody>\n",
       "</table>\n",
       "</div>"
      ],
      "text/plain": [
       "                        ds     y\n",
       "420546 2016-12-31 23:20:00 -4.05\n",
       "420547 2016-12-31 23:30:00 -3.35\n",
       "420548 2016-12-31 23:40:00 -3.16\n",
       "420549 2016-12-31 23:50:00 -4.23\n",
       "420550 2017-01-01 00:00:00 -4.82"
      ]
     },
     "execution_count": 44,
     "metadata": {},
     "output_type": "execute_result"
    }
   ],
   "source": [
    "df_T.tail()"
   ]
  },
  {
   "cell_type": "markdown",
   "metadata": {},
   "source": [
    "Predict outliers on test data:"
   ]
  },
  {
   "cell_type": "code",
   "execution_count": 45,
   "metadata": {},
   "outputs": [],
   "source": [
    "# od_preds = od.predict(\n",
    "#     df_T_test, \n",
    "#     return_instance_score=True,\n",
    "#     return_forecast=True\n",
    "# )"
   ]
  },
  {
   "cell_type": "markdown",
   "metadata": {},
   "source": [
    "## Visualize results\n",
    "\n",
    "We can first visualize our predictions with Prophet's built in plotting functionality. This also allows us to include historical predictions:"
   ]
  },
  {
   "cell_type": "code",
   "execution_count": 46,
   "metadata": {},
   "outputs": [
    {
     "data": {
      "image/png": "[encoded data removed]",
      "text/plain": [
       "<Figure size 720x432 with 1 Axes>"
      ]
     },
     "metadata": {},
     "output_type": "display_data"
    }
   ],
   "source": [
    "future = od.model.make_future_dataframe(periods=n_periods, freq='1440T', include_history=True)\n",
    "forecast = od.model.predict(future)\n",
    "fig = od.model.plot(forecast)"
   ]
  },
  {
   "cell_type": "markdown",
   "metadata": {},
   "source": [
    "We can also plot the breakdown of the different components in the forecast. Since we did not do full Bayesian inference with `mcmc_samples`, the uncertaintly intervals of the forecast are determined by the [MAP estimate](https://en.wikipedia.org/wiki/Maximum_a_posteriori_estimation) of the extrapolated trend."
   ]
  },
  {
   "cell_type": "code",
   "execution_count": 47,
   "metadata": {},
   "outputs": [
    {
     "data": {
      "image/png": "[encoded data removed]",
      "text/plain": [
       "<Figure size 648x864 with 4 Axes>"
      ]
     },
     "metadata": {},
     "output_type": "display_data"
    }
   ],
   "source": [
    "fig =  od.model.plot_components(forecast)"
   ]
  },
  {
   "cell_type": "markdown",
   "metadata": {},
   "source": [
    "It is clear that the further we predict in the future, the wider the uncertainty intervals which determine the outlier threshold.\n",
    "\n",
    "Let's overlay the actual data with the upper and lower outlier thresholds predictions and check where we predicted outliers:"
   ]
  },
  {
   "cell_type": "code",
   "execution_count": 48,
   "metadata": {},
   "outputs": [],
   "source": [
    "forecast['y'] = df['T (degC)'][:n_prophet+n_periods]"
   ]
  },
  {
   "cell_type": "code",
   "execution_count": 49,
   "metadata": {},
   "outputs": [
    {
     "data": {
      "image/png": "[encoded data removed]",
      "text/plain": [
       "<Figure size 432x288 with 1 Axes>"
      ]
     },
     "metadata": {
      "needs_background": "light"
     },
     "output_type": "display_data"
    }
   ],
   "source": [
    "pd.plotting.register_matplotlib_converters()  # needed to plot timestamps\n",
    "forecast[-n_periods:].plot(x='ds', y=['y', 'yhat', 'yhat_upper', 'yhat_lower'])\n",
    "plt.title('Predicted T (in °C) over time')\n",
    "plt.xlabel('Time')\n",
    "plt.ylabel('T (in °C)')\n",
    "plt.show()"
   ]
  },
  {
   "cell_type": "markdown",
   "metadata": {},
   "source": [
    "Outlier scores and predictions:"
   ]
  },
  {
   "cell_type": "code",
   "execution_count": 50,
   "metadata": {},
   "outputs": [
    {
     "data": {
      "image/png": "[encoded data removed]",
      "text/plain": [
       "<Figure size 432x288 with 1 Axes>"
      ]
     },
     "metadata": {
      "needs_background": "light"
     },
     "output_type": "display_data"
    }
   ],
   "source": [
    "# od_preds['data']['forecast']['threshold'] = np.zeros(n_periods)\n",
    "# od_preds['data']['forecast'][-n_periods:].plot(x='ds', y=['score', 'threshold'])\n",
    "plt.title('Outlier score over time')\n",
    "plt.xlabel('Time')\n",
    "plt.ylabel('Outlier score')\n",
    "plt.show()"
   ]
  },
  {
   "cell_type": "markdown",
   "metadata": {},
   "source": [
    "The outlier scores naturally trend down as uncertainty increases when we predict further in the future.\n",
    "\n",
    "Let's look at some individual outliers:"
   ]
  },
  {
   "cell_type": "code",
   "execution_count": 51,
   "metadata": {},
   "outputs": [],
   "source": [
    "# df_fcst = od_preds['data']['forecast']\n",
    "# df_outlier = df_fcst.loc[df_fcst['score'] > 0]"
   ]
  },
  {
   "cell_type": "code",
   "execution_count": 52,
   "metadata": {},
   "outputs": [],
   "source": [
    "# print('Number of outliers: {}'.format(df_outlier.shape[0]))\n",
    "# df_outlier[['ds', 'yhat', 'yhat_lower', 'yhat_upper', 'y']]"
   ]
  },
  {
   "cell_type": "markdown",
   "metadata": {},
   "source": [
    "The outliers occur in 3 consectuive days which were warmer than predicted. "
   ]
  },
  {
   "cell_type": "code",
   "execution_count": null,
   "metadata": {},
   "outputs": [],
   "source": []
  },
  {
   "cell_type": "code",
   "execution_count": 53,
   "metadata": {},
   "outputs": [],
   "source": [
    "indexes = list(range(0, n_prophet, 6*24)) + list(range(n_prophet+1, n_prophet+n_periods))"
   ]
  },
  {
   "cell_type": "code",
   "execution_count": 54,
   "metadata": {},
   "outputs": [],
   "source": [
    "import pickle\n",
    "\n",
    "df_output = pd.DataFrame(forecast)\n",
    "df_output = df_output.take(indexes)\n",
    "df_output.to_pickle(\"./dummy.pkl\")"
   ]
  },
  {
   "cell_type": "code",
   "execution_count": 55,
   "metadata": {},
   "outputs": [
    {
     "data": {
      "text/html": [
       "<div>\n",
       "<style scoped>\n",
       "    .dataframe tbody tr th:only-of-type {\n",
       "        vertical-align: middle;\n",
       "    }\n",
       "\n",
       "    .dataframe tbody tr th {\n",
       "        vertical-align: top;\n",
       "    }\n",
       "\n",
       "    .dataframe thead th {\n",
       "        text-align: right;\n",
       "    }\n",
       "</style>\n",
       "<table border=\"1\" class=\"dataframe\">\n",
       "  <thead>\n",
       "    <tr style=\"text-align: right;\">\n",
       "      <th></th>\n",
       "      <th>ds</th>\n",
       "      <th>trend</th>\n",
       "      <th>yhat_lower</th>\n",
       "      <th>yhat_upper</th>\n",
       "      <th>trend_lower</th>\n",
       "      <th>trend_upper</th>\n",
       "      <th>additive_terms</th>\n",
       "      <th>additive_terms_lower</th>\n",
       "      <th>additive_terms_upper</th>\n",
       "      <th>daily</th>\n",
       "      <th>...</th>\n",
       "      <th>weekly_lower</th>\n",
       "      <th>weekly_upper</th>\n",
       "      <th>yearly</th>\n",
       "      <th>yearly_lower</th>\n",
       "      <th>yearly_upper</th>\n",
       "      <th>multiplicative_terms</th>\n",
       "      <th>multiplicative_terms_lower</th>\n",
       "      <th>multiplicative_terms_upper</th>\n",
       "      <th>yhat</th>\n",
       "      <th>y</th>\n",
       "    </tr>\n",
       "  </thead>\n",
       "  <tbody>\n",
       "    <tr>\n",
       "      <th>0</th>\n",
       "      <td>2009-01-01 00:10:00</td>\n",
       "      <td>3.759257</td>\n",
       "      <td>-11.769767</td>\n",
       "      <td>2.386869</td>\n",
       "      <td>3.759257</td>\n",
       "      <td>3.759257</td>\n",
       "      <td>-8.379682</td>\n",
       "      <td>-8.379682</td>\n",
       "      <td>-8.379682</td>\n",
       "      <td>-1.634114</td>\n",
       "      <td>...</td>\n",
       "      <td>-0.105848</td>\n",
       "      <td>-0.105848</td>\n",
       "      <td>-6.639720</td>\n",
       "      <td>-6.639720</td>\n",
       "      <td>-6.639720</td>\n",
       "      <td>0.0</td>\n",
       "      <td>0.0</td>\n",
       "      <td>0.0</td>\n",
       "      <td>-4.620425</td>\n",
       "      <td>-8.02</td>\n",
       "    </tr>\n",
       "    <tr>\n",
       "      <th>144</th>\n",
       "      <td>2009-01-02 00:10:00</td>\n",
       "      <td>3.844612</td>\n",
       "      <td>-11.570891</td>\n",
       "      <td>2.815165</td>\n",
       "      <td>3.844612</td>\n",
       "      <td>3.844612</td>\n",
       "      <td>-8.215630</td>\n",
       "      <td>-8.215630</td>\n",
       "      <td>-8.215630</td>\n",
       "      <td>-1.634114</td>\n",
       "      <td>...</td>\n",
       "      <td>0.139318</td>\n",
       "      <td>0.139318</td>\n",
       "      <td>-6.720835</td>\n",
       "      <td>-6.720835</td>\n",
       "      <td>-6.720835</td>\n",
       "      <td>0.0</td>\n",
       "      <td>0.0</td>\n",
       "      <td>0.0</td>\n",
       "      <td>-4.371018</td>\n",
       "      <td>-4.60</td>\n",
       "    </tr>\n",
       "    <tr>\n",
       "      <th>288</th>\n",
       "      <td>2009-01-03 00:10:00</td>\n",
       "      <td>3.929967</td>\n",
       "      <td>-11.397108</td>\n",
       "      <td>2.170160</td>\n",
       "      <td>3.929967</td>\n",
       "      <td>3.929967</td>\n",
       "      <td>-8.428115</td>\n",
       "      <td>-8.428115</td>\n",
       "      <td>-8.428115</td>\n",
       "      <td>-1.634114</td>\n",
       "      <td>...</td>\n",
       "      <td>0.017324</td>\n",
       "      <td>0.017324</td>\n",
       "      <td>-6.811325</td>\n",
       "      <td>-6.811325</td>\n",
       "      <td>-6.811325</td>\n",
       "      <td>0.0</td>\n",
       "      <td>0.0</td>\n",
       "      <td>0.0</td>\n",
       "      <td>-4.498148</td>\n",
       "      <td>-4.89</td>\n",
       "    </tr>\n",
       "    <tr>\n",
       "      <th>432</th>\n",
       "      <td>2009-01-04 00:10:00</td>\n",
       "      <td>4.015323</td>\n",
       "      <td>-11.268834</td>\n",
       "      <td>2.821094</td>\n",
       "      <td>4.015323</td>\n",
       "      <td>4.015323</td>\n",
       "      <td>-8.506092</td>\n",
       "      <td>-8.506092</td>\n",
       "      <td>-8.506092</td>\n",
       "      <td>-1.634114</td>\n",
       "      <td>...</td>\n",
       "      <td>0.038249</td>\n",
       "      <td>0.038249</td>\n",
       "      <td>-6.910228</td>\n",
       "      <td>-6.910228</td>\n",
       "      <td>-6.910228</td>\n",
       "      <td>0.0</td>\n",
       "      <td>0.0</td>\n",
       "      <td>0.0</td>\n",
       "      <td>-4.490770</td>\n",
       "      <td>-1.83</td>\n",
       "    </tr>\n",
       "    <tr>\n",
       "      <th>576</th>\n",
       "      <td>2009-01-05 00:10:00</td>\n",
       "      <td>4.100678</td>\n",
       "      <td>-11.237606</td>\n",
       "      <td>2.721326</td>\n",
       "      <td>4.100678</td>\n",
       "      <td>4.100678</td>\n",
       "      <td>-8.577276</td>\n",
       "      <td>-8.577276</td>\n",
       "      <td>-8.577276</td>\n",
       "      <td>-1.634114</td>\n",
       "      <td>...</td>\n",
       "      <td>0.073370</td>\n",
       "      <td>0.073370</td>\n",
       "      <td>-7.016532</td>\n",
       "      <td>-7.016532</td>\n",
       "      <td>-7.016532</td>\n",
       "      <td>0.0</td>\n",
       "      <td>0.0</td>\n",
       "      <td>0.0</td>\n",
       "      <td>-4.476597</td>\n",
       "      <td>-1.50</td>\n",
       "    </tr>\n",
       "    <tr>\n",
       "      <th>...</th>\n",
       "      <td>...</td>\n",
       "      <td>...</td>\n",
       "      <td>...</td>\n",
       "      <td>...</td>\n",
       "      <td>...</td>\n",
       "      <td>...</td>\n",
       "      <td>...</td>\n",
       "      <td>...</td>\n",
       "      <td>...</td>\n",
       "      <td>...</td>\n",
       "      <td>...</td>\n",
       "      <td>...</td>\n",
       "      <td>...</td>\n",
       "      <td>...</td>\n",
       "      <td>...</td>\n",
       "      <td>...</td>\n",
       "      <td>...</td>\n",
       "      <td>...</td>\n",
       "      <td>...</td>\n",
       "      <td>...</td>\n",
       "      <td>...</td>\n",
       "    </tr>\n",
       "    <tr>\n",
       "      <th>422546</th>\n",
       "      <td>2022-06-20 00:00:00</td>\n",
       "      <td>6.106206</td>\n",
       "      <td>-427.801782</td>\n",
       "      <td>452.100344</td>\n",
       "      <td>-432.158492</td>\n",
       "      <td>446.999278</td>\n",
       "      <td>5.231436</td>\n",
       "      <td>5.231436</td>\n",
       "      <td>5.231436</td>\n",
       "      <td>-1.560397</td>\n",
       "      <td>...</td>\n",
       "      <td>0.074100</td>\n",
       "      <td>0.074100</td>\n",
       "      <td>6.717733</td>\n",
       "      <td>6.717733</td>\n",
       "      <td>6.717733</td>\n",
       "      <td>0.0</td>\n",
       "      <td>0.0</td>\n",
       "      <td>0.0</td>\n",
       "      <td>11.337641</td>\n",
       "      <td>NaN</td>\n",
       "    </tr>\n",
       "    <tr>\n",
       "      <th>422547</th>\n",
       "      <td>2022-06-21 00:00:00</td>\n",
       "      <td>6.104408</td>\n",
       "      <td>-429.349504</td>\n",
       "      <td>453.227445</td>\n",
       "      <td>-432.598497</td>\n",
       "      <td>447.412919</td>\n",
       "      <td>5.227194</td>\n",
       "      <td>5.227194</td>\n",
       "      <td>5.227194</td>\n",
       "      <td>-1.560397</td>\n",
       "      <td>...</td>\n",
       "      <td>-0.034608</td>\n",
       "      <td>-0.034608</td>\n",
       "      <td>6.822198</td>\n",
       "      <td>6.822198</td>\n",
       "      <td>6.822198</td>\n",
       "      <td>0.0</td>\n",
       "      <td>0.0</td>\n",
       "      <td>0.0</td>\n",
       "      <td>11.331602</td>\n",
       "      <td>NaN</td>\n",
       "    </tr>\n",
       "    <tr>\n",
       "      <th>422548</th>\n",
       "      <td>2022-06-22 00:00:00</td>\n",
       "      <td>6.102610</td>\n",
       "      <td>-429.533356</td>\n",
       "      <td>453.290281</td>\n",
       "      <td>-433.038502</td>\n",
       "      <td>447.826560</td>\n",
       "      <td>5.245435</td>\n",
       "      <td>5.245435</td>\n",
       "      <td>5.245435</td>\n",
       "      <td>-1.560397</td>\n",
       "      <td>...</td>\n",
       "      <td>-0.126488</td>\n",
       "      <td>-0.126488</td>\n",
       "      <td>6.932320</td>\n",
       "      <td>6.932320</td>\n",
       "      <td>6.932320</td>\n",
       "      <td>0.0</td>\n",
       "      <td>0.0</td>\n",
       "      <td>0.0</td>\n",
       "      <td>11.348045</td>\n",
       "      <td>NaN</td>\n",
       "    </tr>\n",
       "    <tr>\n",
       "      <th>422549</th>\n",
       "      <td>2022-06-23 00:00:00</td>\n",
       "      <td>6.100812</td>\n",
       "      <td>-431.537739</td>\n",
       "      <td>456.966925</td>\n",
       "      <td>-433.478507</td>\n",
       "      <td>448.240201</td>\n",
       "      <td>5.380533</td>\n",
       "      <td>5.380533</td>\n",
       "      <td>5.380533</td>\n",
       "      <td>-1.560397</td>\n",
       "      <td>...</td>\n",
       "      <td>-0.107433</td>\n",
       "      <td>-0.107433</td>\n",
       "      <td>7.048362</td>\n",
       "      <td>7.048362</td>\n",
       "      <td>7.048362</td>\n",
       "      <td>0.0</td>\n",
       "      <td>0.0</td>\n",
       "      <td>0.0</td>\n",
       "      <td>11.481344</td>\n",
       "      <td>NaN</td>\n",
       "    </tr>\n",
       "    <tr>\n",
       "      <th>422550</th>\n",
       "      <td>2022-06-24 00:00:00</td>\n",
       "      <td>6.099014</td>\n",
       "      <td>-429.252802</td>\n",
       "      <td>455.241951</td>\n",
       "      <td>-433.918513</td>\n",
       "      <td>448.653842</td>\n",
       "      <td>5.748783</td>\n",
       "      <td>5.748783</td>\n",
       "      <td>5.748783</td>\n",
       "      <td>-1.560397</td>\n",
       "      <td>...</td>\n",
       "      <td>0.138733</td>\n",
       "      <td>0.138733</td>\n",
       "      <td>7.170447</td>\n",
       "      <td>7.170447</td>\n",
       "      <td>7.170447</td>\n",
       "      <td>0.0</td>\n",
       "      <td>0.0</td>\n",
       "      <td>0.0</td>\n",
       "      <td>11.847797</td>\n",
       "      <td>NaN</td>\n",
       "    </tr>\n",
       "  </tbody>\n",
       "</table>\n",
       "<p>4920 rows × 23 columns</p>\n",
       "</div>"
      ],
      "text/plain": [
       "                        ds     trend  yhat_lower  yhat_upper  trend_lower  \\\n",
       "0      2009-01-01 00:10:00  3.759257  -11.769767    2.386869     3.759257   \n",
       "144    2009-01-02 00:10:00  3.844612  -11.570891    2.815165     3.844612   \n",
       "288    2009-01-03 00:10:00  3.929967  -11.397108    2.170160     3.929967   \n",
       "432    2009-01-04 00:10:00  4.015323  -11.268834    2.821094     4.015323   \n",
       "576    2009-01-05 00:10:00  4.100678  -11.237606    2.721326     4.100678   \n",
       "...                    ...       ...         ...         ...          ...   \n",
       "422546 2022-06-20 00:00:00  6.106206 -427.801782  452.100344  -432.158492   \n",
       "422547 2022-06-21 00:00:00  6.104408 -429.349504  453.227445  -432.598497   \n",
       "422548 2022-06-22 00:00:00  6.102610 -429.533356  453.290281  -433.038502   \n",
       "422549 2022-06-23 00:00:00  6.100812 -431.537739  456.966925  -433.478507   \n",
       "422550 2022-06-24 00:00:00  6.099014 -429.252802  455.241951  -433.918513   \n",
       "\n",
       "        trend_upper  additive_terms  additive_terms_lower  \\\n",
       "0          3.759257       -8.379682             -8.379682   \n",
       "144        3.844612       -8.215630             -8.215630   \n",
       "288        3.929967       -8.428115             -8.428115   \n",
       "432        4.015323       -8.506092             -8.506092   \n",
       "576        4.100678       -8.577276             -8.577276   \n",
       "...             ...             ...                   ...   \n",
       "422546   446.999278        5.231436              5.231436   \n",
       "422547   447.412919        5.227194              5.227194   \n",
       "422548   447.826560        5.245435              5.245435   \n",
       "422549   448.240201        5.380533              5.380533   \n",
       "422550   448.653842        5.748783              5.748783   \n",
       "\n",
       "        additive_terms_upper     daily  ...  weekly_lower  weekly_upper  \\\n",
       "0                  -8.379682 -1.634114  ...     -0.105848     -0.105848   \n",
       "144                -8.215630 -1.634114  ...      0.139318      0.139318   \n",
       "288                -8.428115 -1.634114  ...      0.017324      0.017324   \n",
       "432                -8.506092 -1.634114  ...      0.038249      0.038249   \n",
       "576                -8.577276 -1.634114  ...      0.073370      0.073370   \n",
       "...                      ...       ...  ...           ...           ...   \n",
       "422546              5.231436 -1.560397  ...      0.074100      0.074100   \n",
       "422547              5.227194 -1.560397  ...     -0.034608     -0.034608   \n",
       "422548              5.245435 -1.560397  ...     -0.126488     -0.126488   \n",
       "422549              5.380533 -1.560397  ...     -0.107433     -0.107433   \n",
       "422550              5.748783 -1.560397  ...      0.138733      0.138733   \n",
       "\n",
       "          yearly  yearly_lower  yearly_upper  multiplicative_terms  \\\n",
       "0      -6.639720     -6.639720     -6.639720                   0.0   \n",
       "144    -6.720835     -6.720835     -6.720835                   0.0   \n",
       "288    -6.811325     -6.811325     -6.811325                   0.0   \n",
       "432    -6.910228     -6.910228     -6.910228                   0.0   \n",
       "576    -7.016532     -7.016532     -7.016532                   0.0   \n",
       "...          ...           ...           ...                   ...   \n",
       "422546  6.717733      6.717733      6.717733                   0.0   \n",
       "422547  6.822198      6.822198      6.822198                   0.0   \n",
       "422548  6.932320      6.932320      6.932320                   0.0   \n",
       "422549  7.048362      7.048362      7.048362                   0.0   \n",
       "422550  7.170447      7.170447      7.170447                   0.0   \n",
       "\n",
       "        multiplicative_terms_lower  multiplicative_terms_upper       yhat  \\\n",
       "0                              0.0                         0.0  -4.620425   \n",
       "144                            0.0                         0.0  -4.371018   \n",
       "288                            0.0                         0.0  -4.498148   \n",
       "432                            0.0                         0.0  -4.490770   \n",
       "576                            0.0                         0.0  -4.476597   \n",
       "...                            ...                         ...        ...   \n",
       "422546                         0.0                         0.0  11.337641   \n",
       "422547                         0.0                         0.0  11.331602   \n",
       "422548                         0.0                         0.0  11.348045   \n",
       "422549                         0.0                         0.0  11.481344   \n",
       "422550                         0.0                         0.0  11.847797   \n",
       "\n",
       "           y  \n",
       "0      -8.02  \n",
       "144    -4.60  \n",
       "288    -4.89  \n",
       "432    -1.83  \n",
       "576    -1.50  \n",
       "...      ...  \n",
       "422546   NaN  \n",
       "422547   NaN  \n",
       "422548   NaN  \n",
       "422549   NaN  \n",
       "422550   NaN  \n",
       "\n",
       "[4920 rows x 23 columns]"
      ]
     },
     "execution_count": 55,
     "metadata": {},
     "output_type": "execute_result"
    }
   ],
   "source": [
    "df_output = pd.DataFrame(forecast)\n",
    "df_output = df_output.take(indexes)\n",
    "df_output\n",
    "\n"
   ]
  },
  {
   "cell_type": "code",
   "execution_count": 58,
   "metadata": {},
   "outputs": [],
   "source": [
    "df_output.to_csv('weather.csv', index=True,mode='a')"
   ]
  },
  {
   "cell_type": "code",
   "execution_count": null,
   "metadata": {},
   "outputs": [],
   "source": []
  }
 ],
 "metadata": {
  "kernelspec": {
   "display_name": ".venv",
   "language": "python",
   "name": ".venv"
  },
  "language_info": {
   "codemirror_mode": {
    "name": "ipython",
    "version": 3
   },
   "file_extension": ".py",
   "mimetype": "text/x-python",
   "name": "python",
   "nbconvert_exporter": "python",
   "pygments_lexer": "ipython3",
   "version": "3.7.5"
  }
 },
 "nbformat": 4,
 "nbformat_minor": 2
}
